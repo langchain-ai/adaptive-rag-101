{
 "cells": [
  {
   "cell_type": "markdown",
   "metadata": {},
   "source": [
    "# Setup\n",
    "Follow these instructions to get ready for your upcoming session!\n",
    "\n",
    "If you run into issues with setting up the python environment or acquiring the necessary API keys due to any resrictions (ex. corporate policy), contact your LangChain representative and we'll find a work-around!\n",
    "\n",
    "### Create an environment and install dependencies  \n",
    "```\n",
    "$ cd adaptive-rag-101\n",
    "$ python3 -m venv ar-101-env\n",
    "$ source ar-101-env/bin/activate\n",
    "$ pip install -r requirements.txt\n",
    "```\n",
    "\n",
    "### Running notebooks\n",
    "Make sure the following command works and opens the relevant notebook\n",
    "```\n",
    "$ jupyter notebook\n",
    "```\n",
    "\n",
    "### Set OpenAI API key\n",
    "* If you don't have an OpenAI API key, you can sign up [here](https://openai.com/index/openai-api/).\n",
    "*  Set `OPENAI_API_KEY` in the .env file.\n",
    "\n",
    "### Sign up for LangSmith\n",
    "\n",
    "* Sign up [here](https://docs.smith.langchain.com/) \n",
    "*  Set `LANGCHAIN_API_KEY`, `LANGCHAIN_TRACING_V2=true` .env file.\n",
    "\n",
    "### Tavily for web search\n",
    "\n",
    "Tavily Search API is a search engine optimized for LLMs and RAG, aimed at efficient, quick, and persistent search results. You can sign up for an API key [here](https://tavily.com/). It's easy to sign up and offers a generous free tier. Some lessons (in Module 4) will use Tavily. Set `TAVILY_API_KEY` in .env file.\n",
    "\n",
    "### Set up LangGraph Studio\n",
    "\n",
    "* Currently Studio only has macOS support\n",
    "* Download the latest `.dmg` file [here](https://github.com/langchain-ai/langgraph-studio?tab=readme-ov-file#download)\n",
    "* Install Docker desktop for Mac [here](https://docs.docker.com/engine/install/)\n",
    "\n",
    "### Running Studio\n",
    "To use Studio, you will need to fill in the separate .env file in the /studio/ folder with the relevant API keys.\n",
    "\n",
    "\n",
    "\n"
   ]
  }
 ],
 "metadata": {
  "language_info": {
   "name": "python"
  }
 },
 "nbformat": 4,
 "nbformat_minor": 2
}
